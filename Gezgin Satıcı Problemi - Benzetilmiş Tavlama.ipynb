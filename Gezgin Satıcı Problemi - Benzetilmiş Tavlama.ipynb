{
 "cells": [
  {
   "cell_type": "code",
   "execution_count": 1,
   "metadata": {},
   "outputs": [],
   "source": [
    "import numpy as np\n",
    "import pandas as pd\n",
    "import matplotlib.pyplot as plt"
   ]
  },
  {
   "cell_type": "code",
   "execution_count": 2,
   "metadata": {},
   "outputs": [
    {
     "data": {
      "text/html": [
       "<div>\n",
       "<style scoped>\n",
       "    .dataframe tbody tr th:only-of-type {\n",
       "        vertical-align: middle;\n",
       "    }\n",
       "\n",
       "    .dataframe tbody tr th {\n",
       "        vertical-align: top;\n",
       "    }\n",
       "\n",
       "    .dataframe thead th {\n",
       "        text-align: right;\n",
       "    }\n",
       "</style>\n",
       "<table border=\"1\" class=\"dataframe\">\n",
       "  <thead>\n",
       "    <tr style=\"text-align: right;\">\n",
       "      <th></th>\n",
       "      <th>A</th>\n",
       "      <th>B</th>\n",
       "      <th>C</th>\n",
       "      <th>D</th>\n",
       "      <th>E</th>\n",
       "      <th>F</th>\n",
       "      <th>G</th>\n",
       "    </tr>\n",
       "  </thead>\n",
       "  <tbody>\n",
       "    <tr>\n",
       "      <th>A</th>\n",
       "      <td>0</td>\n",
       "      <td>75</td>\n",
       "      <td>99</td>\n",
       "      <td>9</td>\n",
       "      <td>35</td>\n",
       "      <td>63</td>\n",
       "      <td>8</td>\n",
       "    </tr>\n",
       "    <tr>\n",
       "      <th>B</th>\n",
       "      <td>51</td>\n",
       "      <td>0</td>\n",
       "      <td>86</td>\n",
       "      <td>46</td>\n",
       "      <td>88</td>\n",
       "      <td>29</td>\n",
       "      <td>20</td>\n",
       "    </tr>\n",
       "    <tr>\n",
       "      <th>C</th>\n",
       "      <td>100</td>\n",
       "      <td>5</td>\n",
       "      <td>0</td>\n",
       "      <td>16</td>\n",
       "      <td>28</td>\n",
       "      <td>35</td>\n",
       "      <td>28</td>\n",
       "    </tr>\n",
       "    <tr>\n",
       "      <th>D</th>\n",
       "      <td>20</td>\n",
       "      <td>45</td>\n",
       "      <td>11</td>\n",
       "      <td>0</td>\n",
       "      <td>59</td>\n",
       "      <td>53</td>\n",
       "      <td>49</td>\n",
       "    </tr>\n",
       "    <tr>\n",
       "      <th>E</th>\n",
       "      <td>86</td>\n",
       "      <td>63</td>\n",
       "      <td>33</td>\n",
       "      <td>65</td>\n",
       "      <td>0</td>\n",
       "      <td>76</td>\n",
       "      <td>72</td>\n",
       "    </tr>\n",
       "    <tr>\n",
       "      <th>F</th>\n",
       "      <td>36</td>\n",
       "      <td>53</td>\n",
       "      <td>89</td>\n",
       "      <td>31</td>\n",
       "      <td>21</td>\n",
       "      <td>0</td>\n",
       "      <td>52</td>\n",
       "    </tr>\n",
       "    <tr>\n",
       "      <th>G</th>\n",
       "      <td>58</td>\n",
       "      <td>31</td>\n",
       "      <td>43</td>\n",
       "      <td>67</td>\n",
       "      <td>52</td>\n",
       "      <td>60</td>\n",
       "      <td>0</td>\n",
       "    </tr>\n",
       "  </tbody>\n",
       "</table>\n",
       "</div>"
      ],
      "text/plain": [
       "     A   B   C   D   E   F   G\n",
       "A    0  75  99   9  35  63   8\n",
       "B   51   0  86  46  88  29  20\n",
       "C  100   5   0  16  28  35  28\n",
       "D   20  45  11   0  59  53  49\n",
       "E   86  63  33  65   0  76  72\n",
       "F   36  53  89  31  21   0  52\n",
       "G   58  31  43  67  52  60   0"
      ]
     },
     "execution_count": 2,
     "metadata": {},
     "output_type": "execute_result"
    }
   ],
   "source": [
    "Data1 = pd.DataFrame([[0,75,99,9,35,63,8],[51,0,86,46,88,29,20],[100,5,0,16,28,35,28],\n",
    "                      [20,45,11,0,59,53,49],[86,63,33,65,0,76,72],[36,53,89,31,21,0,52],\n",
    "                      [58,31,43,67,52,60,0]], columns=[\"A\",\"B\",\"C\",\"D\",\"E\",\"F\",\"G\"],\n",
    "                     index=[\"A\",\"B\",\"C\",\"D\",\"E\",\"F\",\"G\"]) # 7 şehir  --Uzaklıklar\n",
    "Data1"
   ]
  },
  {
   "cell_type": "code",
   "execution_count": 3,
   "metadata": {},
   "outputs": [],
   "source": [
    "X0 = [\"A\",\"C\",\"G\",\"D\",\"E\",\"B\",\"F\"] # random ilk çözüm"
   ]
  },
  {
   "cell_type": "code",
   "execution_count": 4,
   "metadata": {},
   "outputs": [
    {
     "name": "stdout",
     "output_type": "stream",
     "text": [
      "[99, 28, 67, 59, 63, 29, 36]\n",
      "Seyahat Mesafesi: 381\n"
     ]
    }
   ],
   "source": [
    "Distances = [] # ilk örnekte şehilrler arası mesafe\n",
    "t = 0\n",
    "for i in range(len(X0)-1):\n",
    "    X1 = Data1.loc[X0[t],X0[t+1]] # her bir şehir ve ondan sonraki şehir--X0'da t=0 iken A ve C şehirleri\n",
    "    X11 = Data1.loc[X0[-1],X0[0]] # Son şehirden başlanan şehre geri dönüş-- F'den A'ya\n",
    "    Distances.append(X1) # Mesafeler listeye eklenir\n",
    "    t = t+1\n",
    "\n",
    "Distances.append(X11) # son şehirden ilk şehire olan mesafe eklenir\n",
    "\n",
    "print (Distances)\n",
    "\n",
    "Length_of_Travel = sum(Distances) # mesafeler birbiriyle toplanır\n",
    "\n",
    "print(\"Seyahat Mesafesi:\",Length_of_Travel)"
   ]
  },
  {
   "cell_type": "code",
   "execution_count": 5,
   "metadata": {},
   "outputs": [],
   "source": [
    "### PARAMETRELER ###\n",
    "\n",
    "T0 = 3000   #Sıcaklık\n",
    "M = 1000   #sıcaklığın kaç kere azalacağı --iterasyon\n",
    "N = 50     #Kaç komşu bakacağı\n",
    "Alpha = 0.85   #cooling rate-soğutma hızı"
   ]
  },
  {
   "cell_type": "code",
   "execution_count": 6,
   "metadata": {},
   "outputs": [
    {
     "name": "stderr",
     "output_type": "stream",
     "text": [
      "<ipython-input-6-f0c4627aceda>:59: RuntimeWarning: overflow encountered in exp\n",
      "  form_1 = 1/(np.exp((Len_Xtemp-Len_X0)/T0)) #yerel minden kurtulma\n"
     ]
    },
    {
     "name": "stdout",
     "output_type": "stream",
     "text": [
      "Final Çözümü:  ['F', 'E', 'C', 'D', 'A', 'G', 'B']\n",
      "Final Çözümünün Minimum Mesafesi:  158\n"
     ]
    },
    {
     "data": {
      "image/png": "[encoded data removed]",
      "text/plain": [
       "<Figure size 432x288 with 1 Axes>"
      ]
     },
     "metadata": {
      "needs_background": "light"
     },
     "output_type": "display_data"
    }
   ],
   "source": [
    "Temp = []\n",
    "Min_Distance = []\n",
    "\n",
    "\n",
    "for i in range(M):\n",
    "    for j in range(N):\n",
    "        # şehirleri değiştirmek için random integer üretme , örn. 3-5 çıktı o şehirlerin yerini değiştir\n",
    "        Ran1 = np.random.randint(0,len(X0))\n",
    "        Ran2 = np.random.randint(0,len(X0))\n",
    "        while Ran1 == Ran2:                         # eğer random sayılar eşitse tekrar seçilir\n",
    "            Ran2 = np.random.randint(0,len(X0))\n",
    "        \n",
    "        Xtemp = []\n",
    "        A1 = X0[Ran1] # random sayıya denk gelen şehir\n",
    "        A2 = X0[Ran2] \n",
    "        \n",
    "        # X0= [\"A\",\"C\",\"G\",\"D\",\"E\",\"B\",\"F\"]\n",
    "        \n",
    "        # Yeni şehir sıralaması listesi- random sayılara denk gelen şehirlerin yerini değiştirir\n",
    "        w = 0\n",
    "        for i in X0:\n",
    "            if X0[w]==A1:\n",
    "                Xtemp=np.append(Xtemp,A2)\n",
    "            elif X0[w]==A2:\n",
    "                Xtemp=np.append(Xtemp,A1)\n",
    "            else:\n",
    "                Xtemp=np.append(Xtemp,X0[w])\n",
    "            w = w+1\n",
    "        \n",
    "        Xtemp = list(Xtemp)\n",
    "        \n",
    "        \n",
    "        \n",
    "        Distances_X0 = [] # oluşturduğumuz ilk çözüm\n",
    "        t = 0\n",
    "        for i in range(len(X0)-1):\n",
    "            X1_1 = Data1.loc[X0[t],X0[t+1]] # şehir ve ondan sonraki şehir arası\n",
    "            X11 = Data1.loc[X0[-1],X0[0]] # son ve ilk şehir arası\n",
    "            Distances_X0.append(X1_1) # listeye ekle\n",
    "            t = t+1\n",
    "        \n",
    "        Distances_X0.append(X11) # sondan ilk şehre mesafeyi listeye ekle\n",
    "        Len_X0 = sum(Distances_X0) # mesafeleri topla\n",
    "        \n",
    "        \n",
    "        Distances_Xtemp = [] # potansiyel çözüm \n",
    "        t = 0\n",
    "        for i in range(len(Xtemp)-1):\n",
    "            X1_2 = Data1.loc[Xtemp[t],Xtemp[t+1]] \n",
    "            X11 = Data1.loc[Xtemp[-1],Xtemp[0]] \n",
    "            Distances_Xtemp.append(X1_2) \n",
    "            t = t+1\n",
    "        \n",
    "        Distances_Xtemp.append(X11) \n",
    "        Len_Xtemp = sum(Distances_Xtemp)\n",
    "        \n",
    "        \n",
    "        rand_num = np.random.rand() # random sayı oluştur\n",
    "        form_1 = 1/(np.exp((Len_Xtemp-Len_X0)/T0)) #yerel minden kurtulma\n",
    "        \n",
    "        if Len_Xtemp <= Len_X0: # Potansiyel çözümün daha iyiyse (daha az)\n",
    "            X0 = Xtemp\n",
    "        \n",
    "        elif rand_num <= form_1: # random sayı formülden daha küçükse\n",
    "            X0 = Xtemp\n",
    "        \n",
    "        else: # hiçbiri değilse aynı şekilde kal\n",
    "            X0 = X0\n",
    "            \n",
    "    Temp = np.append(Temp, T0) # Bu değerler grafik oluştururken kullanmak için\n",
    "    Min_Distance = np.append(Min_Distance,Len_Xtemp)\n",
    "    \n",
    "    T0 = Alpha*T0 # sıcaklığı düşürür\n",
    "    \n",
    "    \n",
    "    \n",
    "    \n",
    "    \n",
    "\n",
    "print\n",
    "print\n",
    "print(\"Final Çözümü: \", X0)\n",
    "print(\"Final Çözümünün Minimum Mesafesi: \", Len_X0)\n",
    "\n",
    "\n",
    "plt.plot(Temp,Min_Distance)\n",
    "plt.title(\"Distance vs. Temperature\",fontsize=15,fontweight='bold')\n",
    "plt.xlabel(\"Temperature\",fontsize=18,fontweight='bold')\n",
    "plt.ylabel(\"Distance\",fontsize=18,fontweight='bold')\n",
    "plt.xlim(3000, 0)\n",
    "plt.xticks(np.arange(min(Temp), max(Temp), 100),fontweight='bold')\n",
    "plt.yticks(fontweight='bold')\n",
    "plt.show()\n"
   ]
  },
  {
   "cell_type": "code",
   "execution_count": null,
   "metadata": {},
   "outputs": [],
   "source": []
  }
 ],
 "metadata": {
  "kernelspec": {
   "display_name": "Python 3",
   "language": "python",
   "name": "python3"
  },
  "language_info": {
   "codemirror_mode": {
    "name": "ipython",
    "version": 3
   },
   "file_extension": ".py",
   "mimetype": "text/x-python",
   "name": "python",
   "nbconvert_exporter": "python",
   "pygments_lexer": "ipython3",
   "version": "3.8.2"
  }
 },
 "nbformat": 4,
 "nbformat_minor": 4
}
